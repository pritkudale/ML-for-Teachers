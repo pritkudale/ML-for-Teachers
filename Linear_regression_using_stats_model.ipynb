{
  "nbformat": 4,
  "nbformat_minor": 0,
  "metadata": {
    "colab": {
      "provenance": [],
      "authorship_tag": "ABX9TyN9IsD5CGfln/pR4opfEWhI",
      "include_colab_link": true
    },
    "kernelspec": {
      "name": "python3",
      "display_name": "Python 3"
    },
    "language_info": {
      "name": "python"
    }
  },
  "cells": [
    {
      "cell_type": "markdown",
      "metadata": {
        "id": "view-in-github",
        "colab_type": "text"
      },
      "source": [
        "<a href=\"https://colab.research.google.com/github/pritkudale/ML-for-Teachers/blob/main/Linear_regression_using_stats_model.ipynb\" target=\"_parent\"><img src=\"https://colab.research.google.com/assets/colab-badge.svg\" alt=\"Open In Colab\"/></a>"
      ]
    },
    {
      "cell_type": "markdown",
      "source": [
        "# Steps in Machine Learning Model Building\n",
        "## 1. Problem statement\n",
        "- Create a regression model for predicting the average Balance\n",
        "- Which factors influence the Credit Card Balance?\n",
        "- Evaluate the model’s performance using appropriate metrics to ensure accurate predictions.\n",
        "\n",
        "\n",
        "## 2. Data Collection"
      ],
      "metadata": {
        "id": "ndCMP3Qh4egb"
      }
    },
    {
      "cell_type": "code",
      "source": [
        "# !pip install ISLP #remove first hashtag if ISLP is not installed"
      ],
      "metadata": {
        "id": "osC28udG-Nls"
      },
      "execution_count": 329,
      "outputs": []
    },
    {
      "cell_type": "code",
      "source": [
        "from ISLP import load_data\n",
        "df = load_data('Credit')"
      ],
      "metadata": {
        "id": "y0Iv4Tfq-OyA"
      },
      "execution_count": 330,
      "outputs": []
    },
    {
      "cell_type": "markdown",
      "source": [
        "## 3. Data Processing\n"
      ],
      "metadata": {
        "id": "_z5xz88O4hzn"
      }
    },
    {
      "cell_type": "markdown",
      "source": [
        "\n",
        "- Step 1: Import the necessary libraries\n"
      ],
      "metadata": {
        "id": "IQZDpTyL4rHC"
      }
    },
    {
      "cell_type": "markdown",
      "source": [
        "- Step 2: Load the dataset"
      ],
      "metadata": {
        "id": "UaH6Siup4szh"
      }
    },
    {
      "cell_type": "markdown",
      "source": [
        "- Step 3: Explore the dataset"
      ],
      "metadata": {
        "id": "bVCIEAuL4vA7"
      }
    },
    {
      "cell_type": "markdown",
      "source": [
        "- Step 4: Statistical Analysis"
      ],
      "metadata": {
        "id": "ed9D7PcE4xKt"
      }
    },
    {
      "cell_type": "markdown",
      "source": [
        "- Step 5: Check the outliers"
      ],
      "metadata": {
        "id": "YUz7T9KK4zDx"
      }
    },
    {
      "cell_type": "markdown",
      "source": [
        "- Step 6: Encoding"
      ],
      "metadata": {
        "id": "cCuulbXHa11P"
      }
    },
    {
      "cell_type": "markdown",
      "source": [
        "- Step 7: Correlation"
      ],
      "metadata": {
        "id": "b64V1TUO40u2"
      }
    },
    {
      "cell_type": "markdown",
      "source": [
        "- Step 8: Separate independent features and Target Variables"
      ],
      "metadata": {
        "id": "zJaTOel_42rE"
      }
    },
    {
      "cell_type": "markdown",
      "source": [
        "- Step 9: Normalization or Standardization"
      ],
      "metadata": {
        "id": "YONoVQtN44a_"
      }
    },
    {
      "cell_type": "code",
      "source": [],
      "metadata": {
        "id": "lJGZ92fYbTO0"
      },
      "execution_count": null,
      "outputs": []
    }
  ]
}