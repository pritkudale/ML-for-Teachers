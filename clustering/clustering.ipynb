{
 "cells": [
  {
   "cell_type": "markdown",
   "id": "4f0c2b92-c842-4929-a273-e32a03a7f506",
   "metadata": {},
   "source": [
    "# Assignment 3 :  Clustering"
   ]
  },
  {
   "cell_type": "markdown",
   "id": "43aba2aa-e98e-4c9e-8f37-d65dc9e581d5",
   "metadata": {},
   "source": [
    "This input file contains the basic information (ID, age, gender, income, spending score) about the customers of a mall. Spending Score is something you assign to the customer based on your defined parameters like customer behavior and purchasing data."
   ]
  }
 ],
 "metadata": {
  "kernelspec": {
   "display_name": "Python 3 (ipykernel)",
   "language": "python",
   "name": "python3"
  },
  "language_info": {
   "codemirror_mode": {
    "name": "ipython",
    "version": 3
   },
   "file_extension": ".py",
   "mimetype": "text/x-python",
   "name": "python",
   "nbconvert_exporter": "python",
   "pygments_lexer": "ipython3",
   "version": "3.12.5"
  }
 },
 "nbformat": 4,
 "nbformat_minor": 5
}
